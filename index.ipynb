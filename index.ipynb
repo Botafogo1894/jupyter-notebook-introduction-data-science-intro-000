{
 "cells": [
  {
   "cell_type": "markdown",
   "metadata": {},
   "source": [
    "# Jupyter Notebook CodeAlong"
   ]
  },
  {
   "cell_type": "markdown",
   "metadata": {},
   "source": [
    "### Introduction"
   ]
  },
  {
   "cell_type": "markdown",
   "metadata": {},
   "source": [
    "So far, many of the readings and all of the labs you have been working with have been interactive.  You are working in an environment that allows us to both display text, and run Python code.  In this lesson, we explore Jupyter, the software powering these interactive documents."
   ]
  },
  {
   "cell_type": "markdown",
   "metadata": {},
   "source": [
    "### Jupyter Background"
   ]
  },
  {
   "cell_type": "markdown",
   "metadata": {},
   "source": [
    "Jupyter is a web application that allows someone to create and work with documents that have live code.  It's a very popular tool among data scientists, as it allows for both explanation of thinking behind code as well as the code itself."
   ]
  },
  {
   "cell_type": "markdown",
   "metadata": {},
   "source": [
    "### Introduction to cells"
   ]
  },
  {
   "cell_type": "markdown",
   "metadata": {},
   "source": [
    "The notebook itself consists of cells. Double click on this content to see what I mean. Once we double click on a cell, we are in insert mode. This means that we are able to edit the cells, just as you would if this were a word document. We can tell that we are in insert mode because of the green border around the cell.  \n",
    "\n",
    "After entering insert mode for this cell, change some content. Don't worry about what you change as we can always undo it. We can revert our changes to a cell by making sure that we are still in insert mode and by pressing `command + z` on a mac or `control + z` on windows.\n",
    "\n",
    "To get out of insert mode and see the effect of our changes, press `shift + enter`.  BOOM!"
   ]
  },
  {
   "cell_type": "markdown",
   "metadata": {},
   "source": [
    "### Adding and Deleting Cells"
   ]
  },
  {
   "cell_type": "markdown",
   "metadata": {},
   "source": [
    "We have already seen, to alter the contents of a cell we simply double click on that cell, bringing us into insert mode, and then change the contents.  Now let's see how to add, and delete cells from escape mode."
   ]
  },
  {
   "cell_type": "markdown",
   "metadata": {},
   "source": [
    "#### Adding cells"
   ]
  },
  {
   "cell_type": "markdown",
   "metadata": {},
   "source": [
    "If we wish to quickly add a new cell we can do so with the following steps: \n",
    "\n",
    "* Make sure we are not in insert mode, but in escape mode\n",
    "    * *Remember we can tell we are in insert mode when we have a green border around our cell.*\n",
    "    * To get out of insert mode and into escape mode, press shift + enter.  Another option is to press the escape key.\n",
    "    * You will no longer see a cell bordered in green.\n",
    "* Then press the letter `b` to create a new cell."
   ]
  },
  {
   "cell_type": "markdown",
   "metadata": {},
   "source": [
    "### Types of Cells\n",
    "\n",
    "The current cell and every other cell in this lesson has been a markdown cell, meaning that it allows us to write text and stylize that text.  For example, if you surround some text with stars on either side the text **becomes bold**.  That's markdown.\n",
    "\n",
    "Cells can also have a type of code.  If we are writing in a cell that is for Python code, everything in that cell must be valid Python or we will see an error."
   ]
  },
  {
   "cell_type": "code",
   "execution_count": 17,
   "metadata": {},
   "outputs": [
    {
     "data": {
      "text/plain": [
       "{3,\n",
       " 5,\n",
       " 6,\n",
       " 9,\n",
       " 10,\n",
       " 12,\n",
       " 15,\n",
       " 18,\n",
       " 20,\n",
       " 21,\n",
       " 24,\n",
       " 25,\n",
       " 27,\n",
       " 30,\n",
       " 33,\n",
       " 35,\n",
       " 36,\n",
       " 39,\n",
       " 40,\n",
       " 42,\n",
       " 45,\n",
       " 48,\n",
       " 50,\n",
       " 51,\n",
       " 54,\n",
       " 55,\n",
       " 57,\n",
       " 60,\n",
       " 63,\n",
       " 65,\n",
       " 66,\n",
       " 69,\n",
       " 70,\n",
       " 72,\n",
       " 75,\n",
       " 78,\n",
       " 80,\n",
       " 81,\n",
       " 84,\n",
       " 85,\n",
       " 87,\n",
       " 90,\n",
       " 93,\n",
       " 95,\n",
       " 96,\n",
       " 99,\n",
       " 100,\n",
       " 102,\n",
       " 105,\n",
       " 108,\n",
       " 110,\n",
       " 111,\n",
       " 114,\n",
       " 115,\n",
       " 117,\n",
       " 120,\n",
       " 123,\n",
       " 125,\n",
       " 126,\n",
       " 129,\n",
       " 130,\n",
       " 132,\n",
       " 135,\n",
       " 138,\n",
       " 140,\n",
       " 141,\n",
       " 144,\n",
       " 145,\n",
       " 147,\n",
       " 150,\n",
       " 153,\n",
       " 155,\n",
       " 156,\n",
       " 159,\n",
       " 160,\n",
       " 162,\n",
       " 165,\n",
       " 168,\n",
       " 170,\n",
       " 171,\n",
       " 174,\n",
       " 175,\n",
       " 177,\n",
       " 180,\n",
       " 183,\n",
       " 185,\n",
       " 186,\n",
       " 189,\n",
       " 190,\n",
       " 192,\n",
       " 195,\n",
       " 198,\n",
       " 200,\n",
       " 201,\n",
       " 204,\n",
       " 205,\n",
       " 207,\n",
       " 210,\n",
       " 213,\n",
       " 215,\n",
       " 216,\n",
       " 219,\n",
       " 220,\n",
       " 222,\n",
       " 225,\n",
       " 228,\n",
       " 230,\n",
       " 231,\n",
       " 234,\n",
       " 235,\n",
       " 237,\n",
       " 240,\n",
       " 243,\n",
       " 245,\n",
       " 246,\n",
       " 249,\n",
       " 250,\n",
       " 252,\n",
       " 255,\n",
       " 258,\n",
       " 260,\n",
       " 261,\n",
       " 264,\n",
       " 265,\n",
       " 267,\n",
       " 270,\n",
       " 273,\n",
       " 275,\n",
       " 276,\n",
       " 279,\n",
       " 280,\n",
       " 282,\n",
       " 285,\n",
       " 288,\n",
       " 290,\n",
       " 291,\n",
       " 294,\n",
       " 295,\n",
       " 297,\n",
       " 300,\n",
       " 303,\n",
       " 305,\n",
       " 306,\n",
       " 309,\n",
       " 310,\n",
       " 312,\n",
       " 315,\n",
       " 318,\n",
       " 320,\n",
       " 321,\n",
       " 324,\n",
       " 325,\n",
       " 327,\n",
       " 330,\n",
       " 333,\n",
       " 335,\n",
       " 336,\n",
       " 339,\n",
       " 340,\n",
       " 342,\n",
       " 345,\n",
       " 348,\n",
       " 350,\n",
       " 351,\n",
       " 354,\n",
       " 355,\n",
       " 357,\n",
       " 360,\n",
       " 363,\n",
       " 365,\n",
       " 366,\n",
       " 369,\n",
       " 370,\n",
       " 372,\n",
       " 375,\n",
       " 378,\n",
       " 380,\n",
       " 381,\n",
       " 384,\n",
       " 385,\n",
       " 387,\n",
       " 390,\n",
       " 393,\n",
       " 395,\n",
       " 396,\n",
       " 399,\n",
       " 400,\n",
       " 402,\n",
       " 405,\n",
       " 408,\n",
       " 410,\n",
       " 411,\n",
       " 414,\n",
       " 415,\n",
       " 417,\n",
       " 420,\n",
       " 423,\n",
       " 425,\n",
       " 426,\n",
       " 429,\n",
       " 430,\n",
       " 432,\n",
       " 435,\n",
       " 438,\n",
       " 440,\n",
       " 441,\n",
       " 444,\n",
       " 445,\n",
       " 447,\n",
       " 450,\n",
       " 453,\n",
       " 455,\n",
       " 456,\n",
       " 459,\n",
       " 460,\n",
       " 462,\n",
       " 465,\n",
       " 468,\n",
       " 470,\n",
       " 471,\n",
       " 474,\n",
       " 475,\n",
       " 477,\n",
       " 480,\n",
       " 483,\n",
       " 485,\n",
       " 486,\n",
       " 489,\n",
       " 490,\n",
       " 492,\n",
       " 495,\n",
       " 498,\n",
       " 500,\n",
       " 501,\n",
       " 504,\n",
       " 505,\n",
       " 507,\n",
       " 510,\n",
       " 513,\n",
       " 515,\n",
       " 516,\n",
       " 519,\n",
       " 520,\n",
       " 522,\n",
       " 525,\n",
       " 528,\n",
       " 530,\n",
       " 531,\n",
       " 534,\n",
       " 535,\n",
       " 537,\n",
       " 540,\n",
       " 543,\n",
       " 545,\n",
       " 546,\n",
       " 549,\n",
       " 550,\n",
       " 552,\n",
       " 555,\n",
       " 558,\n",
       " 560,\n",
       " 561,\n",
       " 564,\n",
       " 565,\n",
       " 567,\n",
       " 570,\n",
       " 573,\n",
       " 575,\n",
       " 576,\n",
       " 579,\n",
       " 580,\n",
       " 582,\n",
       " 585,\n",
       " 588,\n",
       " 590,\n",
       " 591,\n",
       " 594,\n",
       " 595,\n",
       " 597,\n",
       " 600,\n",
       " 603,\n",
       " 605,\n",
       " 606,\n",
       " 609,\n",
       " 610,\n",
       " 612,\n",
       " 615,\n",
       " 618,\n",
       " 620,\n",
       " 621,\n",
       " 624,\n",
       " 625,\n",
       " 627,\n",
       " 630,\n",
       " 633,\n",
       " 635,\n",
       " 636,\n",
       " 639,\n",
       " 640,\n",
       " 642,\n",
       " 645,\n",
       " 648,\n",
       " 650,\n",
       " 651,\n",
       " 654,\n",
       " 655,\n",
       " 657,\n",
       " 660,\n",
       " 663,\n",
       " 665,\n",
       " 666,\n",
       " 669,\n",
       " 670,\n",
       " 672,\n",
       " 675,\n",
       " 678,\n",
       " 680,\n",
       " 681,\n",
       " 684,\n",
       " 685,\n",
       " 687,\n",
       " 690,\n",
       " 693,\n",
       " 695,\n",
       " 696,\n",
       " 699,\n",
       " 700,\n",
       " 702,\n",
       " 705,\n",
       " 708,\n",
       " 710,\n",
       " 711,\n",
       " 714,\n",
       " 715,\n",
       " 717,\n",
       " 720,\n",
       " 723,\n",
       " 725,\n",
       " 726,\n",
       " 729,\n",
       " 730,\n",
       " 732,\n",
       " 735,\n",
       " 738,\n",
       " 740,\n",
       " 741,\n",
       " 744,\n",
       " 745,\n",
       " 747,\n",
       " 750,\n",
       " 753,\n",
       " 755,\n",
       " 756,\n",
       " 759,\n",
       " 760,\n",
       " 762,\n",
       " 765,\n",
       " 768,\n",
       " 770,\n",
       " 771,\n",
       " 774,\n",
       " 775,\n",
       " 777,\n",
       " 780,\n",
       " 783,\n",
       " 785,\n",
       " 786,\n",
       " 789,\n",
       " 790,\n",
       " 792,\n",
       " 795,\n",
       " 798,\n",
       " 800,\n",
       " 801,\n",
       " 804,\n",
       " 805,\n",
       " 807,\n",
       " 810,\n",
       " 813,\n",
       " 815,\n",
       " 816,\n",
       " 819,\n",
       " 820,\n",
       " 822,\n",
       " 825,\n",
       " 828,\n",
       " 830,\n",
       " 831,\n",
       " 834,\n",
       " 835,\n",
       " 837,\n",
       " 840,\n",
       " 843,\n",
       " 845,\n",
       " 846,\n",
       " 849,\n",
       " 850,\n",
       " 852,\n",
       " 855,\n",
       " 858,\n",
       " 860,\n",
       " 861,\n",
       " 864,\n",
       " 865,\n",
       " 867,\n",
       " 870,\n",
       " 873,\n",
       " 875,\n",
       " 876,\n",
       " 879,\n",
       " 880,\n",
       " 882,\n",
       " 885,\n",
       " 888,\n",
       " 890,\n",
       " 891,\n",
       " 894,\n",
       " 895,\n",
       " 897,\n",
       " 900,\n",
       " 903,\n",
       " 905,\n",
       " 906,\n",
       " 909,\n",
       " 910,\n",
       " 912,\n",
       " 915,\n",
       " 918,\n",
       " 920,\n",
       " 921,\n",
       " 924,\n",
       " 925,\n",
       " 927,\n",
       " 930,\n",
       " 933,\n",
       " 935,\n",
       " 936,\n",
       " 939,\n",
       " 940,\n",
       " 942,\n",
       " 945,\n",
       " 948,\n",
       " 950,\n",
       " 951,\n",
       " 954,\n",
       " 955,\n",
       " 957,\n",
       " 960,\n",
       " 963,\n",
       " 965,\n",
       " 966,\n",
       " 969,\n",
       " 970,\n",
       " 972,\n",
       " 975,\n",
       " 978,\n",
       " 980,\n",
       " 981,\n",
       " 984,\n",
       " 985,\n",
       " 987,\n",
       " 990,\n",
       " 993,\n",
       " 995,\n",
       " 996,\n",
       " 999}"
      ]
     },
     "execution_count": 17,
     "metadata": {},
     "output_type": "execute_result"
    }
   ],
   "source": [
    "list_of_numbers = list(range(1, 1000))\n",
    "\n",
    "def divisible_by_3(number):\n",
    "    if number % 3 == 0:\n",
    "        return number\n",
    "\n",
    "def divisible_by_5(number):\n",
    "    if number % 5 == 0:\n",
    "        return number\n",
    "    \n",
    "def numbers_div_by_3_and_5(numbers):\n",
    "    by_3 = list(filter(lambda number: divisible_by_3(number), numbers))\n",
    "    by_5 = list(filter(lambda number: divisible_by_5(number), numbers))\n",
    "    return list(by_3 + by_5)\n",
    "\n",
    "final_answeset(numbers_div_by_3_and_5(list_of_numbers))"
   ]
  },
  {
   "cell_type": "markdown",
   "metadata": {
    "collapsed": true
   },
   "source": [
    "\n",
    "So, a cell must either be of type markdown or of type code, in which case all of the contents must be valid Python.  It cannot be both. We can quickly change a cell from markdown to code with some keyboard shortcuts.\n",
    "\n",
    "From escape mode, we change a cell to type code by pressing the letter `y`. Add a new cell by pressing the letter `b`, then type `j` to change that cell into type code.  Again, press `shift + enter` to save the changes of the cell. From escape mode, press the letter `m` to change the cell from code to markdown."
   ]
  },
  {
   "cell_type": "markdown",
   "metadata": {},
   "source": [
    "### Working with Python in Jupyter"
   ]
  },
  {
   "cell_type": "markdown",
   "metadata": {},
   "source": [
    "Ok, now that we know a little bit about adding and deleting cells, as well as changing cell types from markdown to code, let's focus on working with Python in Jupyter.  We'll go into a large amount of detail about working with a Jupyter notebook in Python, but the main takeaway is this: if we see a Python cell, we should press `shift + enter` on that cell. "
   ]
  },
  {
   "cell_type": "markdown",
   "metadata": {},
   "source": [
    "The major gotcha in working with Python code is that Python will only execute the cells that are run. So for example, just seeing the cell where we define `name` to `'bob'` below does not write that cell to memory."
   ]
  },
  {
   "cell_type": "code",
   "execution_count": 3,
   "metadata": {},
   "outputs": [],
   "source": [
    "name = 'bob'"
   ]
  },
  {
   "cell_type": "markdown",
   "metadata": {},
   "source": [
    "If we try to reference that variable later on withouth having run it, Python will tell us that it is not defined.  "
   ]
  },
  {
   "cell_type": "code",
   "execution_count": 4,
   "metadata": {},
   "outputs": [
    {
     "data": {
      "text/plain": [
       "'bob'"
      ]
     },
     "execution_count": 4,
     "metadata": {},
     "output_type": "execute_result"
    }
   ],
   "source": [
    "name"
   ]
  },
  {
   "cell_type": "markdown",
   "metadata": {},
   "source": [
    "To execute or run a cell, we must press `shift + enter` from escape mode on that cell.  Upon running a cell, Python will show the the last line of the cell's return value underneath.  Let's run the cell below to see this:"
   ]
  },
  {
   "cell_type": "code",
   "execution_count": 5,
   "metadata": {},
   "outputs": [
    {
     "data": {
      "text/plain": [
       "14"
      ]
     },
     "execution_count": 5,
     "metadata": {},
     "output_type": "execute_result"
    }
   ],
   "source": [
    "age = 14\n",
    "age"
   ]
  },
  {
   "cell_type": "markdown",
   "metadata": {},
   "source": [
    "As you can see the variable `age` is set to 14, so when the cell is run `14` is displayed underneath.\n",
    "\n",
    "One tricky thing to note is that assignment, the action of assigning a varible, **does not** have a return a value.  So, even though the cell is run, if the last line of cell is the assigning of a variable, nothing is displayed underneath. "
   ]
  },
  {
   "cell_type": "code",
   "execution_count": 6,
   "metadata": {},
   "outputs": [],
   "source": [
    "hometown = 'NYC'"
   ]
  },
  {
   "cell_type": "markdown",
   "metadata": {},
   "source": [
    "Notice, even after pressing shift + enter on the code above, nothing is displayed below.  But if we reference the variable `hometown`, we see that the cell was run as the variable was defined."
   ]
  },
  {
   "cell_type": "code",
   "execution_count": 7,
   "metadata": {},
   "outputs": [
    {
     "data": {
      "text/plain": [
       "'NYC'"
      ]
     },
     "execution_count": 7,
     "metadata": {},
     "output_type": "execute_result"
    }
   ],
   "source": [
    "hometown"
   ]
  },
  {
   "cell_type": "markdown",
   "metadata": {},
   "source": [
    "> Yes, it's pretty confusing, but the important thing to take away is that we need to run our cells with Python code by pressing `shift + enter` if we want Python to read our variables and functions and remember them later on. Remember, in the case of assignment, the return value is `None`, which does not show an output. We can see this more concretely below by running the cell below:"
   ]
  },
  {
   "cell_type": "markdown",
   "metadata": {
    "collapsed": true
   },
   "source": [
    "None"
   ]
  },
  {
   "cell_type": "markdown",
   "metadata": {},
   "source": [
    "### Working through labs and readmes "
   ]
  },
  {
   "cell_type": "markdown",
   "metadata": {},
   "source": [
    "As you read through labs we encourage you to press shift + enter on each of the Python cells.  Often in labs, we will assign variables to data early on.  Then we will ask you to work with data stored in those variables.  To avoid going to the top of the lab to press `shift + enter`, it's best just to press that while reading along. \n",
    "\n",
    "The same thing goes for working through a Readme.  The Readmes will often assign data to variables, and it may be nice to work with data stored in those variables later on.  So it's a good idea to press `shift + enter`, and now that you know how to work with Jupyter notebooks, you can always modify the notebooks with new code to test your understanding."
   ]
  },
  {
   "cell_type": "markdown",
   "metadata": {},
   "source": [
    "### Summary"
   ]
  },
  {
   "cell_type": "markdown",
   "metadata": {},
   "source": [
    "In this lesson, we learned about Jupyter notebooks.  We saw that in Jupyter notebooks, we can either be in insert mode or escape mode.  While in insert mode, we can edit the cells and undo changes within that cell with `command + z` or `ctl + z`.  In escape mode, we can add cells with `b`, delete a cell with `x`, and undo deletion of a cell with `d`.  We can also change the type of a cell to markdown with `m` and to Python code with `j`.  \n",
    "\n",
    "Then we saw how to work with Python code in Jupyter notebooks.  We saw that to have our code in a cell executed, we need to press `shift + enter`. If we do not do this, then our variables that we assigned in Python are not going to be recognized by Python later on in our Jupyter notebook."
   ]
  }
 ],
 "metadata": {
  "kernelspec": {
   "display_name": "Python 3",
   "language": "python",
   "name": "python3"
  },
  "language_info": {
   "codemirror_mode": {
    "name": "ipython",
    "version": 3
   },
   "file_extension": ".py",
   "mimetype": "text/x-python",
   "name": "python",
   "nbconvert_exporter": "python",
   "pygments_lexer": "ipython3",
   "version": "3.6.4"
  }
 },
 "nbformat": 4,
 "nbformat_minor": 2
}
